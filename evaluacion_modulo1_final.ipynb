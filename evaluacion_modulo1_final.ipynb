{
 "cells": [
  {
   "cell_type": "code",
   "execution_count": 12,
   "metadata": {},
   "outputs": [],
   "source": [
    "#Importar re para el método 7\n",
    "import re\n",
    "\n",
    "# Creación de la Tienda Online utilizando clases\n",
    "\n",
    "class TiendaOnline :\n",
    "\n",
    "    #Atributos de la clase. No será necesario incluir los atributos como parámetros, ya que los siguientes métodos agregan la información\n",
    "    def __init__(self):\n",
    "        \n",
    "        # Atributo inventario, lista de diccionarios vacias con 3 keys\n",
    "        self.inventario = []\n",
    "\n",
    "        # Atributo clientes, diccionario 2 keys\n",
    "        self.clientes = {}\n",
    "\n",
    "        #Atributo ventas totales \n",
    "        self.ventas_totales = 0\n",
    "\n",
    "        # Atributo para registrar compras. Al guardarlo aquí se mantiene actualizado\n",
    "        self.historial_cliente={}\n",
    "\n",
    "        # Método agregar un producto\n",
    "    def agregar_producto(self,nombre,precio,cantidad):\n",
    "\n",
    "        # Creamos nuevas variables\n",
    "        self.nombre = str(nombre)\n",
    "        self.precio = float(precio)\n",
    "        self.cantidad = int(cantidad)\n",
    "\n",
    "            #Iteramos en la lista buscando si el producto ya se encuentra en el inventario, sino lo  agregamos\n",
    "        for producto in self.inventario:\n",
    "\n",
    "            #  Si el producto esta en la lista actualizamos el inventario\n",
    "            if producto['nombre'] == self.nombre:\n",
    "                producto['cantidad']+=self.cantidad\n",
    "                return f'El inventario ha sido actualizado con el producto: {self.nombre} tienes {producto['cantidad']} unidades a {producto['precio']} euros'\n",
    "        \n",
    "         # Si el producto NO esta pedimos se agregue a la lista, definiendo las claves que seran solicitadas\n",
    "        nuevo_producto = {'nombre': self.nombre, 'precio': self.precio,'cantidad': self.cantidad}\n",
    "        self.inventario.append(nuevo_producto)\n",
    "        return f'El inventario ha sido actualizado se ha agregado producto: {self.nombre}, cantidad: {self.cantidad} unidades, precio: {self.precio} euros'\n",
    "            \n",
    "        # Método para ver productos en el inventario\n",
    "    def ver_inventario(self):\n",
    "            \n",
    "        # Creamos una lista vacia donde agregamos todos los producto, debe estar fuera del bucle para que me agregue los productos en cada ciclo.\n",
    "        informacion_total_productos = []\n",
    "        \n",
    "\n",
    "         # Iteramos por la lista con for  \n",
    "        for producto in self.inventario:\n",
    "\n",
    "            # Creamos una variable donde estará la información del producto\n",
    "            informacion_producto= f\"Nombre:{producto['nombre']}, Precio:{producto['precio']}, Cantidad:{producto['cantidad']}\"\n",
    "    \n",
    "            # Adición de la información del producto a la lista\n",
    "            informacion_total_productos.append(informacion_producto)\n",
    "\n",
    "        # El resultado lo convierto a string para que la impresión sea más clara\n",
    "        string_resultado = '\\n'.join(informacion_total_productos)\n",
    "        return  string_resultado\n",
    "    \n",
    "        # Método buscar productos\n",
    "    def buscar_productos (self,nombre):\n",
    "\n",
    "        # Iteramos por la lista buscando si el producto se encuentra\n",
    "        for producto in self.inventario:\n",
    "\n",
    "            # Si el producto esta en el inventario se muestra la informacion sobre el producto\n",
    "            if nombre.lower() == producto['nombre']:\n",
    "                    return f\"Nombre:{producto['nombre']}, Precio:{producto['precio']} euros , Cantidad:{producto['cantidad']} unidades\"\n",
    "            \n",
    "            \n",
    "        # Si no se encuentra, informamos que no esta en el inventario    \n",
    "        return'El producto que buscas no se encuentra en el inventario'\n",
    "\n",
    "\n",
    "        # Método actualizar inventario \n",
    "\n",
    "    def actualizar_stock(self, nombre, cantidad):\n",
    "\n",
    "        # Iteramos por la lista buscando el producto\n",
    "        for producto in self.inventario:\n",
    "            \n",
    "            # Si el producto está en stock,actualizamos la cantidad de producto \n",
    "            if nombre == producto['nombre']:\n",
    "                producto['cantidad'] = cantidad\n",
    "                return 'Tu inventario ha sido actualizado' \n",
    "            \n",
    "        #Si no se encuentra en las BBDD del inventario informamos al usuario\n",
    "           \n",
    "        return 'El producto no se encuentra en la bases de datos del inventario, si deseas puedes agregarlo'\n",
    "    \n",
    "       \n",
    "        #Método eliminar producto\n",
    "\n",
    "    def eliminar_producto(self,nombre):\n",
    "\n",
    "        # Iteramos por la lista buscando el producto\n",
    "        for producto in self.inventario:\n",
    "\n",
    "            # Si se encuentra en el inventario lo quitamos con el metodo remove ya que estamos trabajando con listas\n",
    "            if nombre == producto['nombre']:\n",
    "                \n",
    "                # Quitamos el producto, garantizando que se elimine todo el diccionario\n",
    "                self.inventario.remove(producto)\n",
    "                return f\"El producto Nombre:{producto['nombre']} ha sido eliminado\"\n",
    "\n",
    "\n",
    "         # Si no se encuentra en el inventario informamos al usuario\n",
    "            \n",
    "        return \"El producto no se encuentra en la bases de datos del inventario\"\n",
    "    \n",
    "\n",
    "\n",
    "        # Método calcular valor inventario\n",
    "\n",
    "    def calcular_valor_inventario(self):\n",
    "\n",
    "        # Primero, creamos una lista donde agregamos el valor total de cada producto. La lista debe estar por fuera del bucle para que sume todos los productos\n",
    "        valores_inventario=[]\n",
    "\n",
    "        # Iteramos por la lista identificando cada producto\n",
    "        for producto in self.inventario:\n",
    "            \n",
    "            # Conocemos el valor total de cada producto \n",
    "            valor_por_producto = producto['cantidad']* producto['precio']\n",
    "            #Agregamos el valor a la lista vacia\n",
    "            valores_inventario.append(valor_por_producto)\n",
    "\n",
    "    #  Para conocer el valor total del inventario sumamos el valor total de cada producto\n",
    "        valor_total= sum(valores_inventario)\n",
    "        return f' El valor total del inventario es: {valor_total}'\n",
    "    \n",
    "\n",
    "        # Método buscar producto utilizando regex. \n",
    "        \n",
    "        # Primero importamos re al inicio de la clase\n",
    "    def buscar_producto_regex (self,patron):\n",
    "\n",
    "        # Creo una  lista para almacenar productos que coincidan con el patrón\n",
    "        productos_encontrados = []\n",
    "\n",
    "        # Iteramos por la lista buscando productos que coincidan con el patron\n",
    "        for producto in self.inventario:\n",
    "\n",
    "            #Utilizo el metodo re.search para buscar si hay alguna coincidencia en la cadena de texto del nombre de los  productos\n",
    "            # Si coincide agrego el producto a la lista de productos encontrados\n",
    "            if re.search(patron,producto['nombre']):\n",
    "\n",
    "                # Solicito agregue toda la información relacionada con la coincidencia \n",
    "                productos_encontrados.append(producto)\n",
    "\n",
    "         # Pedimos nos devuelva la lista de coincidencias \n",
    "        return productos_encontrados\n",
    "        \n",
    "    # Método compra\n",
    "    def realizar_compra (self):\n",
    "\n",
    "        # definimos una condicion inicial para el bucle while\n",
    "        condicion= True\n",
    "\n",
    "        # Necesito conocer los productos en el inventario para incluirlo en la interaccion con usuario para esto utilizamos una list comprehension\n",
    "        productos_inventario = [producto['nombre'] for producto in self.inventario] \n",
    "        string_productos_inventario = ','.join(productos_inventario)\n",
    "\n",
    "        # Creamos una lista vacia con carrito de compra\n",
    "        carrito_compra=[]\n",
    "        \n",
    "        # Lista para agregar el costo total para cada producto\n",
    "        costo_total_productos= []\n",
    "\n",
    "\n",
    "        # Inicio el bucle while mientras se mantenga la condición TRUE\n",
    "\n",
    "        while condicion:\n",
    "            # Preguntamos al usuario por el producto que desea comprar \n",
    "            producto_seleccionado= str(input(f'Escribe el producto que deseas comprar. Lista de productos \\n {string_productos_inventario}')).lower()\n",
    "             # Cantidad de producto\n",
    "            cantidad_producto= int(input('Escribe la cantidad que deseas comprar'))\n",
    "\n",
    "\n",
    "            # Verificamos que el producto este en el inventario\n",
    "\n",
    "            for producto in self.inventario:\n",
    "                if producto_seleccionado == producto['nombre']:\n",
    "                    # Reviso que tenga suficiente cantidad en el inventario\n",
    "                    if producto['cantidad'] > cantidad_producto:\n",
    "\n",
    "                        # Despues de verificar tener suficiente cantidades en el inventario, incluimos el  producto al carrito como un diccionario  donde productos(key)-cantidades(values)\n",
    "\n",
    "                        carrito_compra.append({producto_seleccionado:cantidad_producto})\n",
    "\n",
    "                        #Actualizo el inventario, restando la cantidad vendida\n",
    "                        producto['cantidad']-= cantidad_producto\n",
    "\n",
    "                        #Calculo el costo de producto que alojaré en una lista vacia \n",
    "                        costo_producto= cantidad_producto * producto['precio']\n",
    "\n",
    "                        costo_total_productos.append(costo_producto)\n",
    "\n",
    "                        print (f\"Producto seleccionado: {producto_seleccionado}, unidades: {cantidad_producto}, precio{producto['precio']} euros\")\n",
    "                        print(f\"Carrito de compra: {carrito_compra}\")\n",
    "\n",
    "                        # En caso que no haya suficientes productos en el inventario informo al usuario \n",
    "                    else:\n",
    "                        print(' No hay suficientes unidades de ese producto, elige una cantidad menor de unidades')\n",
    "                    break # Agrego un break para parar la compra del producto \n",
    "                \n",
    "\n",
    "               # En caso de que no se encuentre el producto en el inventario se informa al usuario\n",
    "            else: print (f'El producto: {producto_seleccionado} no se encuentra en el inventario')\n",
    "    \n",
    "\n",
    "            # Una vez seleccionado, un producto y su cantidad, preguntamos si desea seguir comprando, así terminamos el bucle\n",
    "            seguir_comprando=(input(f'¿Deseas seguir comprando? (si/no):')).lower()\n",
    "            if seguir_comprando=='no':\n",
    "                condicion = False \n",
    "                \n",
    "        # Calculo valor total del carrito de compras\n",
    "        total= sum(costo_total_productos)\n",
    "        return f'Carrito de compras:{carrito_compra}. Total: {total} euros'\n",
    "    \n",
    "    # Método procesar pago\n",
    "    \n",
    "    def procesar_pago(self):\n",
    "\n",
    "        #Iniciamos el ciclo, con while True \n",
    "        while True:\n",
    "\n",
    "            # Intentaremos hacer el pago utilizando try, ya que es posible que entregue un valor de pago menor al valor de compra\n",
    "\n",
    "            try:\n",
    "                # Preguntamos al usuario valor total de compra\n",
    "                valor_compra= float(input('Escribe el valor total de la compra'))\n",
    "                # Preguntamos al usuario valor total a pagar\n",
    "                valor_pagar= float(input('Escribe el valor a pagar'))\n",
    "            \n",
    "                # Comprobamos que el valor a pagar sea mayor o igual al valor de la compra\n",
    "                if valor_pagar >= valor_compra:\n",
    "                    valor_cambio = valor_pagar - valor_compra\n",
    "                    return f\"Pago realizado con exito. Tu cambio es {valor_cambio} euros\" # El return permite terminar el ciclo\n",
    "                else:\n",
    "                    print(f\"Error: ValueError.Por favor, introduce un valor mayor o igual al valor de la compra.\")\n",
    "\n",
    "                # Agregamos la excepcion para manejo de errores en caso de que el monto sea insuficiente, o ingrese un string\n",
    "            except ValueError:\n",
    "        \n",
    "                print(f\"Error: ValueError. Por favor, introduce un valor mayor o igual al valor de la compra.\")\n",
    "\n",
    "            # Preguntamos si desea intentar de nuevo\n",
    "            intentar_de_nuevo = input(\"¿Quieres intentar de nuevo? (si/no): \").lower()\n",
    "            if intentar_de_nuevo != 'si':\n",
    "                # Con return finalizamos el ciclo, en caso que el usuario ingrese un valor que no es adecuad\n",
    "                return \"Pago cancelado.\"\n",
    "            \n",
    "    # Método agregar cliente\n",
    "\n",
    "    def agregar_cliente(self,nombre,email):\n",
    "\n",
    "        # Creamos nuevas variables de nombre e email de cliente\n",
    "        self.nombre_cliente = str(nombre).lower()\n",
    "        self.email_cliente = str(email).lower()\n",
    "\n",
    "        # Verificamos si el cliente esta en el diccionario. Si NO está lo agregamos \n",
    "        if self.nombre_cliente not in self.clientes:\n",
    "                \n",
    "                #Al ser un diccionario lo agregamos especificando key-value\n",
    "                self.clientes[self.nombre_cliente]=self.email_cliente\n",
    "        else:\n",
    "            # Si ya esta en la base de datos avisamos que ya tenemos este cliente en la BBDD\n",
    "            print(f'El cliente {self.nombre_cliente} ya se encuentra en la base de datos')\n",
    "        \n",
    "        return f'La base de datos de clientes ha sido actualizado se ha agregado Cliente: {self.nombre_cliente}. Email: {self.email_cliente}'\n",
    "\n",
    "    #Método ver clientes\n",
    "\n",
    "    def ver_clientes(self):\n",
    "    \n",
    "         # Iteramos por el diccionario para recorrer la base de datos \n",
    "        for cliente in self.clientes:\n",
    "\n",
    "            # Creamos una list comprehension para obtener la informacion de  los clientes\n",
    "           informacion_clientes = [f\"Nombre:{nombre}. Email: {email}\" for nombre,email in self.clientes.items()] \n",
    "\n",
    "            # El resultado lo convierto a string \n",
    "        string_cliente = '\\n'.join(informacion_clientes)\n",
    "            \n",
    "        return  string_cliente\n",
    "\n",
    "    # Método Registrar compra\n",
    "    def registrar_compra (self,nombre_cliente,carrito):\n",
    "\n",
    "        # Creamos un nuevo diccionario que estará en los atributos del método constructor ya que crearemos el historial de clientes. Es más útil como un atributo de instancia\n",
    "        #Creo un atributo para carrito\n",
    "        self.carrito = carrito\n",
    "\n",
    "        # Buscamos al cliente en la lista de clientes\n",
    "        if nombre_cliente.lower() in self.clientes:\n",
    "\n",
    "            # Y en el  historial de compras  de clientes\n",
    "            if nombre_cliente.lower() in self.historial_cliente:\n",
    "\n",
    "                # Si lo tengo en el historial agrego la informacion del carrito al diccionario \n",
    "                self.historial_cliente[nombre_cliente.lower()].append(self.carrito)\n",
    "            else:\n",
    "                # Si no lo tengo, lo incluyo al historial de cliente como una lista. Así se va adicionando todas las  compras realizadas por el cliente con key= nombre y value=carrito\n",
    "                self.historial_cliente[nombre_cliente.lower()]= [self.carrito]\n",
    "                \n",
    "        else:\n",
    "            print(f'El cliente{nombre_cliente.lower()} no se encuentra en la BBDD de clientes')\n",
    "        \n",
    "        # Para calcular el valor total de compras realizadas por el cliente hago una list comprehension, itero por lo productos del carrito y multiplicamos la cantidad * precio para los productos comprados\n",
    "        total_compra = sum(informacion['precio'] * informacion['cantidad'] for compra, informacion in self.carrito.items())\n",
    "       \n",
    "        #Actualizamos el atributo de ventas totales de la tienda\n",
    "        self.ventas_totales+=total_compra\n",
    "\n",
    "        return f'La compra del cliente {nombre_cliente} ha sido registrada. Total de la compra: {total_compra} euros'\n",
    "    \n",
    "    #Método ver compras cliente\n",
    "\n",
    "    def ver_compras_clientes(self,nombre_cliente):\n",
    "\n",
    "        #Verificamos si el cliente esta en el historial de clientes\n",
    "            if nombre_cliente.lower() in self.historial_cliente:\n",
    "               \n",
    "               # Obtenemos su informacion histórica de compras a partir de la key, que es su nombre.\n",
    "               informacion_historica= self.historial_cliente[nombre_cliente.lower()]\n",
    "               \n",
    "               # Desarrollamos  un list comprehension para calcular valor total de compras \n",
    "               total_valor_compras = sum (informacion['precio'] * informacion['cantidad'] for carrito in informacion_historica for informacion in carrito.values())\n",
    "\n",
    "               return f'El cliente: {nombre_cliente} ha realizado las siguientes compras:\\n {informacion_historica}, \\n valor total de compras: {total_valor_compras}' \n",
    "\n",
    "                # Si el cliente no se encuentra en el historial de clientes informamos al usuario\n",
    "            else:\n",
    "                return f'El cliente: {nombre_cliente} no se encuentra en el historial de clientes'\n",
    "            \n",
    "        #Método calcular ventas totales\n",
    "    def calcular_ventas_totales(self):\n",
    "        # Llamamos al atributo ventas totales, donde se han ido sumando las ventas realizadas hasta el momento.\n",
    "        return f'Las ventas totales de la tienda son: {self.ventas_totales} euros'\n",
    "\n",
    "                \n",
    "                          \n",
    "               \n",
    "\n",
    "\n"
   ]
  },
  {
   "cell_type": "markdown",
   "metadata": {},
   "source": [
    "## Prueba"
   ]
  },
  {
   "cell_type": "code",
   "execution_count": 13,
   "metadata": {},
   "outputs": [],
   "source": [
    "tienda1= TiendaOnline()"
   ]
  },
  {
   "cell_type": "code",
   "execution_count": 14,
   "metadata": {},
   "outputs": [
    {
     "data": {
      "text/plain": [
       "'El inventario ha sido actualizado se ha agregado producto: libreta, cantidad: 20 unidades, precio: 10.0 euros'"
      ]
     },
     "execution_count": 14,
     "metadata": {},
     "output_type": "execute_result"
    }
   ],
   "source": [
    "tienda1.agregar_producto('libreta',10, 20)"
   ]
  },
  {
   "cell_type": "code",
   "execution_count": 15,
   "metadata": {},
   "outputs": [
    {
     "data": {
      "text/plain": [
       "'El inventario ha sido actualizado se ha agregado producto: colores, cantidad: 50 unidades, precio: 15.0 euros'"
      ]
     },
     "execution_count": 15,
     "metadata": {},
     "output_type": "execute_result"
    }
   ],
   "source": [
    "tienda1.agregar_producto('colores',15, 50)"
   ]
  },
  {
   "cell_type": "code",
   "execution_count": 16,
   "metadata": {},
   "outputs": [
    {
     "data": {
      "text/plain": [
       "'El inventario ha sido actualizado se ha agregado producto: folder, cantidad: 10 unidades, precio: 12.0 euros'"
      ]
     },
     "execution_count": 16,
     "metadata": {},
     "output_type": "execute_result"
    }
   ],
   "source": [
    "tienda1.agregar_producto('folder',12, 10)"
   ]
  },
  {
   "cell_type": "code",
   "execution_count": 17,
   "metadata": {},
   "outputs": [
    {
     "name": "stdout",
     "output_type": "stream",
     "text": [
      "Nombre:libreta, Precio:10.0, Cantidad:20\n",
      "Nombre:colores, Precio:15.0, Cantidad:50\n",
      "Nombre:folder, Precio:12.0, Cantidad:10\n"
     ]
    }
   ],
   "source": [
    "print(tienda1.ver_inventario())"
   ]
  },
  {
   "cell_type": "code",
   "execution_count": 18,
   "metadata": {},
   "outputs": [
    {
     "data": {
      "text/plain": [
       "'Nombre:colores, Precio:15.0 euros , Cantidad:50 unidades'"
      ]
     },
     "execution_count": 18,
     "metadata": {},
     "output_type": "execute_result"
    }
   ],
   "source": [
    "tienda1.buscar_productos('colores')\n",
    "\n"
   ]
  },
  {
   "cell_type": "code",
   "execution_count": 19,
   "metadata": {},
   "outputs": [
    {
     "data": {
      "text/plain": [
       "'Tu inventario ha sido actualizado'"
      ]
     },
     "execution_count": 19,
     "metadata": {},
     "output_type": "execute_result"
    }
   ],
   "source": [
    "tienda1.actualizar_stock('colores',40)"
   ]
  },
  {
   "cell_type": "code",
   "execution_count": 20,
   "metadata": {},
   "outputs": [
    {
     "name": "stdout",
     "output_type": "stream",
     "text": [
      "Nombre:libreta, Precio:10.0, Cantidad:20\n",
      "Nombre:colores, Precio:15.0, Cantidad:40\n",
      "Nombre:folder, Precio:12.0, Cantidad:10\n"
     ]
    }
   ],
   "source": [
    "print(tienda1.ver_inventario())"
   ]
  },
  {
   "cell_type": "code",
   "execution_count": 120,
   "metadata": {},
   "outputs": [
    {
     "data": {
      "text/plain": [
       "'El producto Nombre:libreta ha sido eliminado'"
      ]
     },
     "execution_count": 120,
     "metadata": {},
     "output_type": "execute_result"
    }
   ],
   "source": [
    "tienda1.eliminar_producto('libreta')"
   ]
  },
  {
   "cell_type": "code",
   "execution_count": 21,
   "metadata": {},
   "outputs": [
    {
     "name": "stdout",
     "output_type": "stream",
     "text": [
      "Nombre:libreta, Precio:10.0, Cantidad:20\n",
      "Nombre:colores, Precio:15.0, Cantidad:40\n",
      "Nombre:folder, Precio:12.0, Cantidad:10\n"
     ]
    }
   ],
   "source": [
    "print(tienda1.ver_inventario())"
   ]
  },
  {
   "cell_type": "code",
   "execution_count": 22,
   "metadata": {},
   "outputs": [
    {
     "data": {
      "text/plain": [
       "' El valor total del inventario es: 920.0'"
      ]
     },
     "execution_count": 22,
     "metadata": {},
     "output_type": "execute_result"
    }
   ],
   "source": [
    "tienda1.calcular_valor_inventario()"
   ]
  },
  {
   "cell_type": "code",
   "execution_count": 23,
   "metadata": {},
   "outputs": [
    {
     "data": {
      "text/plain": [
       "[{'nombre': 'colores', 'precio': 15.0, 'cantidad': 40}]"
      ]
     },
     "execution_count": 23,
     "metadata": {},
     "output_type": "execute_result"
    }
   ],
   "source": [
    "tienda1.buscar_producto_regex(r'\\bcolores\\b')"
   ]
  },
  {
   "cell_type": "code",
   "execution_count": 24,
   "metadata": {},
   "outputs": [
    {
     "name": "stdout",
     "output_type": "stream",
     "text": [
      "Producto seleccionado: libreta, unidades: 1, precio10.0 euros\n",
      "Carrito de compra: [{'libreta': 1}]\n"
     ]
    },
    {
     "data": {
      "text/plain": [
       "\"Carrito de compras:[{'libreta': 1}]. Total: 10.0 euros\""
      ]
     },
     "execution_count": 24,
     "metadata": {},
     "output_type": "execute_result"
    }
   ],
   "source": [
    "tienda1.realizar_compra()"
   ]
  },
  {
   "cell_type": "code",
   "execution_count": 26,
   "metadata": {},
   "outputs": [
    {
     "name": "stdout",
     "output_type": "stream",
     "text": [
      "Nombre:libreta, Precio:10.0, Cantidad:19\n",
      "Nombre:colores, Precio:15.0, Cantidad:40\n",
      "Nombre:folder, Precio:12.0, Cantidad:10\n"
     ]
    }
   ],
   "source": [
    "print(tienda1.ver_inventario())"
   ]
  },
  {
   "cell_type": "code",
   "execution_count": 27,
   "metadata": {},
   "outputs": [
    {
     "data": {
      "text/plain": [
       "'Pago realizado con exito. Tu cambio es 30.0 euros'"
      ]
     },
     "execution_count": 27,
     "metadata": {},
     "output_type": "execute_result"
    }
   ],
   "source": [
    "tienda1.procesar_pago()"
   ]
  },
  {
   "cell_type": "code",
   "execution_count": 28,
   "metadata": {},
   "outputs": [
    {
     "data": {
      "text/plain": [
       "'La base de datos de clientes ha sido actualizado se ha agregado Cliente: martin. Email: martin@gmail.com'"
      ]
     },
     "execution_count": 28,
     "metadata": {},
     "output_type": "execute_result"
    }
   ],
   "source": [
    "tienda1.agregar_cliente('Martin','martin@gmail.com')"
   ]
  },
  {
   "cell_type": "code",
   "execution_count": 29,
   "metadata": {},
   "outputs": [
    {
     "data": {
      "text/plain": [
       "'La base de datos de clientes ha sido actualizado se ha agregado Cliente: camila. Email: camila@gmail.com'"
      ]
     },
     "execution_count": 29,
     "metadata": {},
     "output_type": "execute_result"
    }
   ],
   "source": [
    "tienda1.agregar_cliente('Camila','camila@gmail.com')"
   ]
  },
  {
   "cell_type": "code",
   "execution_count": 30,
   "metadata": {},
   "outputs": [
    {
     "name": "stdout",
     "output_type": "stream",
     "text": [
      "Nombre:martin. Email: martin@gmail.com\n",
      "Nombre:camila. Email: camila@gmail.com\n"
     ]
    }
   ],
   "source": [
    "print(tienda1.ver_clientes())"
   ]
  },
  {
   "cell_type": "code",
   "execution_count": 31,
   "metadata": {},
   "outputs": [
    {
     "name": "stdout",
     "output_type": "stream",
     "text": [
      "La compra del cliente Camila ha sido registrada. Total de la compra: 45 euros\n"
     ]
    }
   ],
   "source": [
    "carrito_cliente1 = {\"colores\": {\"precio\": 15,\"cantidad\": 3}}\n",
    "\n",
    "resultado=tienda1.registrar_compra('Camila',carrito_cliente1)\n",
    "\n",
    "print(resultado)"
   ]
  },
  {
   "cell_type": "code",
   "execution_count": 32,
   "metadata": {},
   "outputs": [
    {
     "name": "stdout",
     "output_type": "stream",
     "text": [
      "La compra del cliente Martin ha sido registrada. Total de la compra: 10 euros\n"
     ]
    }
   ],
   "source": [
    "carrito_cliente2 = {\"libreta\": {\"precio\": 10,\"cantidad\": 1}}\n",
    "\n",
    "resultado=tienda1.registrar_compra('Martin',carrito_cliente2)\n",
    "\n",
    "print(resultado)"
   ]
  },
  {
   "cell_type": "code",
   "execution_count": 33,
   "metadata": {},
   "outputs": [
    {
     "name": "stdout",
     "output_type": "stream",
     "text": [
      "La compra del cliente Martin ha sido registrada. Total de la compra: 12 euros\n"
     ]
    }
   ],
   "source": [
    "carrito_cliente3 = {\"folder\": {\"precio\": 12,\"cantidad\": 1}}\n",
    "\n",
    "resultado=tienda1.registrar_compra('Martin',carrito_cliente3)\n",
    "\n",
    "print(resultado)"
   ]
  },
  {
   "cell_type": "code",
   "execution_count": 34,
   "metadata": {},
   "outputs": [
    {
     "name": "stdout",
     "output_type": "stream",
     "text": [
      "El cliente: Camila ha realizado las siguientes compras:\n",
      " [{'colores': {'precio': 15, 'cantidad': 3}}], \n",
      " valor total de compras: 45\n"
     ]
    }
   ],
   "source": [
    "print(tienda1.ver_compras_clientes('Camila'))"
   ]
  },
  {
   "cell_type": "code",
   "execution_count": 35,
   "metadata": {},
   "outputs": [
    {
     "name": "stdout",
     "output_type": "stream",
     "text": [
      "El cliente: Martin ha realizado las siguientes compras:\n",
      " [{'libreta': {'precio': 10, 'cantidad': 1}}, {'folder': {'precio': 12, 'cantidad': 1}}], \n",
      " valor total de compras: 22\n"
     ]
    }
   ],
   "source": [
    "print(tienda1.ver_compras_clientes('Martin'))"
   ]
  },
  {
   "cell_type": "code",
   "execution_count": 135,
   "metadata": {},
   "outputs": [
    {
     "data": {
      "text/plain": [
       "'Las ventas totales de la tienda son: 55 euros'"
      ]
     },
     "execution_count": 135,
     "metadata": {},
     "output_type": "execute_result"
    }
   ],
   "source": [
    "tienda1.calcular_ventas_totales()"
   ]
  }
 ],
 "metadata": {
  "kernelspec": {
   "display_name": "base",
   "language": "python",
   "name": "python3"
  },
  "language_info": {
   "codemirror_mode": {
    "name": "ipython",
    "version": 3
   },
   "file_extension": ".py",
   "mimetype": "text/x-python",
   "name": "python",
   "nbconvert_exporter": "python",
   "pygments_lexer": "ipython3",
   "version": "3.12.4"
  }
 },
 "nbformat": 4,
 "nbformat_minor": 2
}
